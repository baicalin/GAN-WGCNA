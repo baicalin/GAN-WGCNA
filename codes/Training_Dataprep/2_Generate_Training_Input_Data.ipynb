{
 "cells": [
  {
   "cell_type": "code",
   "execution_count": 5,
   "metadata": {},
   "outputs": [],
   "source": [
    "from datetime import date, timedelta\n",
    "from os import mkdir, makedirs\n",
    "INPUT_DATA_PATH = \"Results\" #-%s/data\" % date.today().strftime(\"%Y%m%d\")\n",
    "DATAPREP_RESULTS_PATH = \"Results/training_data\" #-%s\" % date.today().strftime(\"%Y%m%d\")\n",
    "\n",
    "# DATAPREP_RESULTS_PATH = \"Results-%s\" % (date.today() - timedelta(days=1)).strftime(\"%Y%m%d\")\n",
    "# INPUT_DATA_PATH = \"Results-%s/data\" % (date.today() - timedelta(days=1)).strftime(\"%Y%m%d\")\n",
    "\n",
    "# makedirs(INPUT_DATA_PATH)\n",
    "for region in [\"BLA\", \"CPU\", \"NAC\", \"PFC\", \"HIP\", \"VTA\"]:\n",
    "    makedirs(DATAPREP_RESULTS_PATH + \"/%s\" % region)\n"
   ]
  },
  {
   "cell_type": "code",
   "execution_count": 7,
   "metadata": {},
   "outputs": [],
   "source": [
    "import pandas as pd\n",
    "for region in [\"BLA\", \"CPU\", \"NAC\", \"PFC\", \"HIP\", \"VTA\"]:\n",
    "    Voom_df_aug = pd.read_csv(INPUT_DATA_PATH + \"/%s_Voom_Augmented_Result.csv\" % region)\n",
    "    Voom_df_aug.index = Voom_df_aug[\"Unnamed: 0\"]\n",
    "    Voom_df_aug = Voom_df_aug.drop(\"Unnamed: 0\", axis=1)\n",
    "    Voom_df_aug.to_csv(DATAPREP_RESULTS_PATH + \"/%s/%s_aug.csv\" % (region, region))\n",
    "    Voom_df_aug.to_csv(DATAPREP_RESULTS_PATH + \"/%s/%s_aug_train.csv\" % (region, region), index=None)"
   ]
  },
  {
   "cell_type": "code",
   "execution_count": null,
   "metadata": {},
   "outputs": [],
   "source": []
  }
 ],
 "metadata": {
  "kernelspec": {
   "display_name": "Python 3 (ipykernel)",
   "language": "python",
   "name": "python3"
  },
  "language_info": {
   "codemirror_mode": {
    "name": "ipython",
    "version": 3
   },
   "file_extension": ".py",
   "mimetype": "text/x-python",
   "name": "python",
   "nbconvert_exporter": "python",
   "pygments_lexer": "ipython3",
   "version": "3.9.7"
  }
 },
 "nbformat": 4,
 "nbformat_minor": 2
}
