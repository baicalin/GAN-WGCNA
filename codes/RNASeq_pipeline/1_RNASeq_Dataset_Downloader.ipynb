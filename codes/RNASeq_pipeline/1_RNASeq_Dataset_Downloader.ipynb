{
 "cells": [
  {
   "cell_type": "code",
   "execution_count": 21,
   "metadata": {},
   "outputs": [],
   "source": [
    "import requests\n",
    "from bs4 import BeautifulSoup\n",
    "import pandas as pd\n",
    "from tqdm import tqdm\n",
    "import time\n",
    "from datetime import date\n",
    "import datetime"
   ]
  },
  {
   "cell_type": "code",
   "execution_count": 22,
   "metadata": {},
   "outputs": [],
   "source": [
    "# Create Dataset folder for Download result \n",
    "from os import mkdir, makedirs\n",
    "DATASETS_FOLDER_PATH = \"Datasets\" #-%s\" % date.today().strftime(\"%Y%m%d\")\n",
    "makedirs(DATASETS_FOLDER_PATH)"
   ]
  },
  {
   "cell_type": "code",
   "execution_count": 13,
   "metadata": {},
   "outputs": [],
   "source": [
    "def download_data(PREFIX = \"GSM\", ID_LIST = list(range(2987694, 2987923 + 1)), ATTRIBUTES = [\"ID\", \"Title\", \"self-administration\", \"challenge\"]):\n",
    "\n",
    "    dfObj = pd.DataFrame([], columns = ATTRIBUTES)\n",
    "\n",
    "    for id in tqdm(ID_LIST, ncols=134):\n",
    "        web_url = \"https://www.ncbi.nlm.nih.gov/biosample/%s\" % PREFIX + str(id)\n",
    "        r = requests.get(web_url)\n",
    "        soup = BeautifulSoup(r.text, 'html.parser')\n",
    "        trs = soup.find_all(\"tr\") # tr has th and td\n",
    "        appendObj = {}\n",
    "        appendObj[\"ID\"] = PREFIX + str(id)\n",
    "        appendObj[\"Title\"] = soup.find(\"title\").text.split(\" \")[0]\n",
    "\n",
    "        for atr in ATTRIBUTES:\n",
    "\n",
    "            for tr in trs:\n",
    "\n",
    "                if tr.th.text == atr:\n",
    "                    appendObj[atr] = tr.td.text\n",
    "                    break\n",
    "        dfObj = dfObj.append(appendObj, ignore_index=True)\n",
    "    return(dfObj)"
   ]
  },
  {
   "cell_type": "code",
   "execution_count": 9,
   "metadata": {},
   "outputs": [
    {
     "name": "stderr",
     "output_type": "stream",
     "text": [
      "100%|███████████████████████████████████████████████████████████████████████████████████████████████| 230/230 [10:23<00:00,  2.71s/it]\n"
     ]
    }
   ],
   "source": [
    "download_result = download_data()"
   ]
  },
  {
   "cell_type": "code",
   "execution_count": 24,
   "metadata": {},
   "outputs": [],
   "source": [
    "def post_modification_and_save_to_csv(dfObj, result_id = datetime.datetime.now().strftime(\"%H%M%S\")):\n",
    "    df = pd.read_csv(\"DATASETS/original.CSV\")\n",
    "    df_bi = pd.read_csv(\"DATASETS/Behavioral_index_data.csv\")\n",
    "    df_with_denoted_colnames = pd.DataFrame(data=[], index=df[\"Gene\"])\n",
    "    \n",
    "    for i in df.columns[1:231]:\n",
    "        challenge = str(dfObj.loc[dfObj['Title'] == i][\"challenge\"].values)[2:3]\n",
    "        sa = str(dfObj.loc[dfObj['Title'] == i][\"self-administration\"].values)[2:3]\n",
    "\n",
    "        region = i[0:3]\n",
    "        sample_num = i[-3:]\n",
    "\n",
    "        ai = str(df_bi.loc[df_bi['Animal.ID'] == int(sample_num)][\"Addiction Index\"].values[0])\n",
    "\n",
    "#         if ai != \"0.0\":\n",
    "        col_name = i[-3:len(i)] + \"_\" + i[0:3].upper() + \"_\"  + sa + challenge + \"-\" + ai\n",
    "        df_with_denoted_colnames[col_name] = df[i].values\n",
    "    df_with_denoted_colnames.to_csv(DATASETS_FOLDER_PATH + \"/Total_Conditions_Counts_with_AI%s.csv\" % result_id)\n",
    "\n",
    "    df = pd.read_csv(DATASETS_FOLDER_PATH + \"/Total_Conditions_Counts_with_AI%s.csv\" % result_id)\n",
    "    df_with_denoted_colnames = pd.read_csv(DATASETS_FOLDER_PATH + \"/Total_Conditions_Counts_with_AI%s.csv\" % result_id)\n",
    "\n",
    "\n",
    "    regions = [\"BLA\", \"VTA\", \"CPU\", \"HIP\", \"NAC\", \"PFC\"] \n",
    "\n",
    "    for region in tqdm(regions, ncols=134, desc=\"for %s\"%region):\n",
    "        arr = []\n",
    "        for col in df.columns[1:]:\n",
    "            if col[4:7] == region:\n",
    "                arr.append(col)\n",
    "        df_tmp = pd.DataFrame(columns=arr)\n",
    "        for s in arr:\n",
    "            df_tmp[s] = df[s]\n",
    "        df_tmp.index = df_with_denoted_colnames.Gene\n",
    "\n",
    "    #     df_tmp.to_csv(\"Dataset_with_AI-20200216/%s_Count_Dataset.csv\" % arr[0][4:7], index=True)\n",
    "    #     df_tmp.to_csv(\"Dataset_with_AI-20200216/%s_Count_Dataset_no_index.csv\" % arr[0][4:7], index=False)\n",
    "\n",
    "        df_tmp.to_csv(DATASETS_FOLDER_PATH + \"/%s_Count_Dataset%s.csv\" % (arr[0][4:7], result_id), index=True)\n",
    "        df_tmp.to_csv(DATASETS_FOLDER_PATH + \"/%s_Count_Dataset_no_index%s.csv\" % (arr[0][4:7], result_id), index=False)"
   ]
  },
  {
   "cell_type": "code",
   "execution_count": 25,
   "metadata": {},
   "outputs": [
    {
     "name": "stderr",
     "output_type": "stream",
     "text": [
      "for VTA: 100%|██████████████████████████████████████████████████████████████████████████████████████████| 6/6 [00:20<00:00,  3.34s/it]\n"
     ]
    }
   ],
   "source": [
    "post_modification_and_save_to_csv(dfObj = download_result, result_id=\"\")"
   ]
  },
  {
   "cell_type": "code",
   "execution_count": null,
   "metadata": {},
   "outputs": [],
   "source": []
  }
 ],
 "metadata": {
  "kernelspec": {
   "display_name": "Python 3 (ipykernel)",
   "language": "python",
   "name": "python3"
  },
  "language_info": {
   "codemirror_mode": {
    "name": "ipython",
    "version": 3
   },
   "file_extension": ".py",
   "mimetype": "text/x-python",
   "name": "python",
   "nbconvert_exporter": "python",
   "pygments_lexer": "ipython3",
   "version": "3.9.7"
  }
 },
 "nbformat": 4,
 "nbformat_minor": 2
}
